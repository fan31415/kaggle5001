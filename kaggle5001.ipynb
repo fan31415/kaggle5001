{
 "cells": [
  {
   "cell_type": "code",
   "execution_count": 1,
   "metadata": {},
   "outputs": [],
   "source": [
    "import pandas as pd\n",
    "from sklearn import preprocessing\n",
    "import numpy as np\n",
    "import matplotlib.pyplot as plt\n",
    "import re\n",
    "import copy\n",
    "\n",
    "import scipy.stats as ss\n",
    "\n",
    "import math\n",
    "\n",
    "from sklearn.preprocessing import normalize\n",
    "from sklearn.preprocessing import StandardScaler\n",
    "from sklearn.preprocessing import MinMaxScaler\n",
    "from sklearn.preprocessing import MaxAbsScaler\n",
    "from sklearn.preprocessing import QuantileTransformer\n",
    "\n",
    "\n",
    "from sklearn import svm, datasets\n",
    "from sklearn.model_selection import GridSearchCV\n",
    "from sklearn.model_selection import RandomizedSearchCV\n",
    "from scipy.stats import randint as sp_randint\n",
    "# Notice: Header = None! Can not omit!\n",
    "df = pd.read_csv(\"new_train_data.csv\")\n",
    "# df = pd.read_csv(\"train.csv\")\n",
    "dt = pd.read_csv(\"test.csv\")"
   ]
  },
  {
   "cell_type": "code",
   "execution_count": 2,
   "metadata": {},
   "outputs": [
    {
     "data": {
      "text/html": [
       "<div>\n",
       "<style scoped>\n",
       "    .dataframe tbody tr th:only-of-type {\n",
       "        vertical-align: middle;\n",
       "    }\n",
       "\n",
       "    .dataframe tbody tr th {\n",
       "        vertical-align: top;\n",
       "    }\n",
       "\n",
       "    .dataframe thead th {\n",
       "        text-align: right;\n",
       "    }\n",
       "</style>\n",
       "<table border=\"1\" class=\"dataframe\">\n",
       "  <thead>\n",
       "    <tr style=\"text-align: right;\">\n",
       "      <th></th>\n",
       "      <th>id</th>\n",
       "      <th>penalty</th>\n",
       "      <th>l1_ratio</th>\n",
       "      <th>alpha</th>\n",
       "      <th>max_iter</th>\n",
       "      <th>random_state</th>\n",
       "      <th>n_jobs</th>\n",
       "      <th>n_samples</th>\n",
       "      <th>n_features</th>\n",
       "      <th>n_classes</th>\n",
       "      <th>n_clusters_per_class</th>\n",
       "      <th>n_informative</th>\n",
       "      <th>flip_y</th>\n",
       "      <th>scale</th>\n",
       "      <th>time</th>\n",
       "      <th>newtime</th>\n",
       "    </tr>\n",
       "  </thead>\n",
       "  <tbody>\n",
       "    <tr>\n",
       "      <th>0</th>\n",
       "      <td>0</td>\n",
       "      <td>none</td>\n",
       "      <td>0.304083</td>\n",
       "      <td>0.0001</td>\n",
       "      <td>417</td>\n",
       "      <td>475</td>\n",
       "      <td>-1</td>\n",
       "      <td>1089</td>\n",
       "      <td>327</td>\n",
       "      <td>4</td>\n",
       "      <td>3</td>\n",
       "      <td>7</td>\n",
       "      <td>0.074798</td>\n",
       "      <td>24.242009</td>\n",
       "      <td>0.409987</td>\n",
       "      <td>0.305729</td>\n",
       "    </tr>\n",
       "    <tr>\n",
       "      <th>1</th>\n",
       "      <td>1</td>\n",
       "      <td>l1</td>\n",
       "      <td>0.727744</td>\n",
       "      <td>0.0010</td>\n",
       "      <td>578</td>\n",
       "      <td>569</td>\n",
       "      <td>1</td>\n",
       "      <td>790</td>\n",
       "      <td>373</td>\n",
       "      <td>4</td>\n",
       "      <td>5</td>\n",
       "      <td>7</td>\n",
       "      <td>0.077781</td>\n",
       "      <td>54.626302</td>\n",
       "      <td>3.950953</td>\n",
       "      <td>3.094283</td>\n",
       "    </tr>\n",
       "    <tr>\n",
       "      <th>2</th>\n",
       "      <td>2</td>\n",
       "      <td>none</td>\n",
       "      <td>0.745885</td>\n",
       "      <td>0.0100</td>\n",
       "      <td>588</td>\n",
       "      <td>529</td>\n",
       "      <td>2</td>\n",
       "      <td>428</td>\n",
       "      <td>1198</td>\n",
       "      <td>2</td>\n",
       "      <td>5</td>\n",
       "      <td>6</td>\n",
       "      <td>0.030196</td>\n",
       "      <td>17.999964</td>\n",
       "      <td>0.368702</td>\n",
       "      <td>0.354206</td>\n",
       "    </tr>\n",
       "    <tr>\n",
       "      <th>3</th>\n",
       "      <td>3</td>\n",
       "      <td>none</td>\n",
       "      <td>0.474605</td>\n",
       "      <td>0.0010</td>\n",
       "      <td>829</td>\n",
       "      <td>103</td>\n",
       "      <td>4</td>\n",
       "      <td>877</td>\n",
       "      <td>313</td>\n",
       "      <td>6</td>\n",
       "      <td>5</td>\n",
       "      <td>7</td>\n",
       "      <td>0.057261</td>\n",
       "      <td>82.257222</td>\n",
       "      <td>1.004559</td>\n",
       "      <td>0.704138</td>\n",
       "    </tr>\n",
       "    <tr>\n",
       "      <th>4</th>\n",
       "      <td>4</td>\n",
       "      <td>elasticnet</td>\n",
       "      <td>0.395049</td>\n",
       "      <td>0.0010</td>\n",
       "      <td>167</td>\n",
       "      <td>418</td>\n",
       "      <td>2</td>\n",
       "      <td>216</td>\n",
       "      <td>644</td>\n",
       "      <td>8</td>\n",
       "      <td>5</td>\n",
       "      <td>11</td>\n",
       "      <td>0.073728</td>\n",
       "      <td>95.515601</td>\n",
       "      <td>0.802800</td>\n",
       "      <td>0.502725</td>\n",
       "    </tr>\n",
       "  </tbody>\n",
       "</table>\n",
       "</div>"
      ],
      "text/plain": [
       "   id     penalty  l1_ratio   alpha  max_iter  random_state  n_jobs  \\\n",
       "0   0        none  0.304083  0.0001       417           475      -1   \n",
       "1   1          l1  0.727744  0.0010       578           569       1   \n",
       "2   2        none  0.745885  0.0100       588           529       2   \n",
       "3   3        none  0.474605  0.0010       829           103       4   \n",
       "4   4  elasticnet  0.395049  0.0010       167           418       2   \n",
       "\n",
       "   n_samples  n_features  n_classes  n_clusters_per_class  n_informative  \\\n",
       "0       1089         327          4                     3              7   \n",
       "1        790         373          4                     5              7   \n",
       "2        428        1198          2                     5              6   \n",
       "3        877         313          6                     5              7   \n",
       "4        216         644          8                     5             11   \n",
       "\n",
       "     flip_y      scale      time   newtime  \n",
       "0  0.074798  24.242009  0.409987  0.305729  \n",
       "1  0.077781  54.626302  3.950953  3.094283  \n",
       "2  0.030196  17.999964  0.368702  0.354206  \n",
       "3  0.057261  82.257222  1.004559  0.704138  \n",
       "4  0.073728  95.515601  0.802800  0.502725  "
      ]
     },
     "execution_count": 2,
     "metadata": {},
     "output_type": "execute_result"
    }
   ],
   "source": [
    "\n",
    "df.head()\n"
   ]
  },
  {
   "cell_type": "code",
   "execution_count": 3,
   "metadata": {},
   "outputs": [
    {
     "data": {
      "text/plain": [
       "array([-1,  1,  2,  4,  8])"
      ]
     },
     "execution_count": 3,
     "metadata": {},
     "output_type": "execute_result"
    }
   ],
   "source": [
    "df['n_jobs'].unique()"
   ]
  },
  {
   "cell_type": "code",
   "execution_count": 4,
   "metadata": {},
   "outputs": [
    {
     "name": "stdout",
     "output_type": "stream",
     "text": [
      "1000\n",
      "0\n"
     ]
    }
   ],
   "source": [
    "col = 'random_state'\n",
    "print(max(df[col]))\n",
    "print(min(df[col]))"
   ]
  },
  {
   "cell_type": "code",
   "execution_count": 5,
   "metadata": {},
   "outputs": [
    {
     "name": "stdout",
     "output_type": "stream",
     "text": [
      "<class 'pandas.core.frame.DataFrame'>\n",
      "RangeIndex: 400 entries, 0 to 399\n",
      "Data columns (total 16 columns):\n",
      "id                      400 non-null int64\n",
      "penalty                 400 non-null object\n",
      "l1_ratio                400 non-null float64\n",
      "alpha                   400 non-null float64\n",
      "max_iter                400 non-null int64\n",
      "random_state            400 non-null int64\n",
      "n_jobs                  400 non-null int64\n",
      "n_samples               400 non-null int64\n",
      "n_features              400 non-null int64\n",
      "n_classes               400 non-null int64\n",
      "n_clusters_per_class    400 non-null int64\n",
      "n_informative           400 non-null int64\n",
      "flip_y                  400 non-null float64\n",
      "scale                   400 non-null float64\n",
      "time                    400 non-null float64\n",
      "newtime                 400 non-null float64\n",
      "dtypes: float64(6), int64(9), object(1)\n",
      "memory usage: 50.1+ KB\n"
     ]
    }
   ],
   "source": [
    "df.info()"
   ]
  },
  {
   "cell_type": "code",
   "execution_count": 6,
   "metadata": {},
   "outputs": [],
   "source": [
    "from sklearn.preprocessing import LabelEncoder\n",
    "def labelEncode(df, key):\n",
    "    gle = LabelEncoder()\n",
    "    labelStr = '-labels'\n",
    "    newLabel = key + labelStr\n",
    "    labels = gle.fit_transform(df[key])\n",
    "    mappings = {index: label for index, label in \n",
    "                  enumerate(gle.classes_)}\n",
    "    df[newLabel] = labels"
   ]
  },
  {
   "cell_type": "code",
   "execution_count": 7,
   "metadata": {},
   "outputs": [
    {
     "data": {
      "image/png": "[encoded data removed]",
      "text/plain": [
       "<matplotlib.figure.Figure at 0x1a0c4deb38>"
      ]
     },
     "metadata": {},
     "output_type": "display_data"
    }
   ],
   "source": [
    "fig1 = plt.matshow(df.corr())\n",
    "cbar = plt.colorbar(fig1)\n",
    "plt.show()"
   ]
  },
  {
   "cell_type": "code",
   "execution_count": 8,
   "metadata": {},
   "outputs": [
    {
     "data": {
      "text/plain": [
       "id                      0.050309\n",
       "l1_ratio               -0.013337\n",
       "alpha                  -0.009759\n",
       "max_iter                0.264227\n",
       "random_state            0.043778\n",
       "n_jobs                 -0.114705\n",
       "n_samples               0.296451\n",
       "n_features              0.220124\n",
       "n_classes               0.166696\n",
       "n_clusters_per_class   -0.060997\n",
       "n_informative           0.109154\n",
       "flip_y                  0.120277\n",
       "scale                   0.004990\n",
       "time                    1.000000\n",
       "newtime                 0.986953\n",
       "penalty-labels         -0.343493\n",
       "Name: time, dtype: float64"
      ]
     },
     "execution_count": 8,
     "metadata": {},
     "output_type": "execute_result"
    }
   ],
   "source": [
    "df.corr()['time']\n",
    "df3 = copy.deepcopy(df)\n",
    "labelEncode(df3, 'penalty')\n",
    "df3.corr()['time']"
   ]
  },
  {
   "cell_type": "code",
   "execution_count": 9,
   "metadata": {},
   "outputs": [
    {
     "data": {
      "image/png": "[encoded data removed]",
      "text/plain": [
       "<matplotlib.figure.Figure at 0x104c93eb8>"
      ]
     },
     "metadata": {},
     "output_type": "display_data"
    }
   ],
   "source": [
    "fig2 = plt.matshow(df3.corr())\n",
    "cbar = plt.colorbar(fig2)\n",
    "plt.show()"
   ]
  },
  {
   "cell_type": "code",
   "execution_count": 10,
   "metadata": {},
   "outputs": [],
   "source": [
    "from sklearn.decomposition import PCA\n",
    "# dfp = copy.deepcopy(df)\n",
    "\n",
    "# labelEncode(dfp, 'penalty')\n",
    "# dfp = dfp.drop('penalty', axis = 1)\n",
    "# pca = PCA(n_components=7)\n",
    "# pca.fit(dfp)\n",
    "\n",
    "# dfp = pca.fit_transform(dfp)\n",
    "\n",
    "# print(pca.explained_variance_ratio_)  \n",
    "\n",
    "# print(pca.singular_values_) "
   ]
  },
  {
   "cell_type": "markdown",
   "metadata": {},
   "source": [
    "## import Data again"
   ]
  },
  {
   "cell_type": "markdown",
   "metadata": {},
   "source": [
    "## add rows to resample"
   ]
  },
  {
   "cell_type": "code",
   "execution_count": 81,
   "metadata": {},
   "outputs": [
    {
     "data": {
      "text/html": [
       "<div>\n",
       "<style scoped>\n",
       "    .dataframe tbody tr th:only-of-type {\n",
       "        vertical-align: middle;\n",
       "    }\n",
       "\n",
       "    .dataframe tbody tr th {\n",
       "        vertical-align: top;\n",
       "    }\n",
       "\n",
       "    .dataframe thead th {\n",
       "        text-align: right;\n",
       "    }\n",
       "</style>\n",
       "<table border=\"1\" class=\"dataframe\">\n",
       "  <thead>\n",
       "    <tr style=\"text-align: right;\">\n",
       "      <th></th>\n",
       "      <th>id</th>\n",
       "      <th>penalty</th>\n",
       "      <th>l1_ratio</th>\n",
       "      <th>alpha</th>\n",
       "      <th>max_iter</th>\n",
       "      <th>random_state</th>\n",
       "      <th>n_jobs</th>\n",
       "      <th>n_samples</th>\n",
       "      <th>n_features</th>\n",
       "      <th>n_classes</th>\n",
       "      <th>n_clusters_per_class</th>\n",
       "      <th>n_informative</th>\n",
       "      <th>flip_y</th>\n",
       "      <th>scale</th>\n",
       "      <th>time</th>\n",
       "      <th>newtime</th>\n",
       "    </tr>\n",
       "  </thead>\n",
       "  <tbody>\n",
       "    <tr>\n",
       "      <th>0</th>\n",
       "      <td>0</td>\n",
       "      <td>none</td>\n",
       "      <td>0.304083</td>\n",
       "      <td>0.0001</td>\n",
       "      <td>417</td>\n",
       "      <td>475</td>\n",
       "      <td>-1</td>\n",
       "      <td>1089</td>\n",
       "      <td>327</td>\n",
       "      <td>4</td>\n",
       "      <td>3</td>\n",
       "      <td>7</td>\n",
       "      <td>0.074798</td>\n",
       "      <td>24.242009</td>\n",
       "      <td>0.409987</td>\n",
       "      <td>0.305729</td>\n",
       "    </tr>\n",
       "    <tr>\n",
       "      <th>1</th>\n",
       "      <td>1</td>\n",
       "      <td>l1</td>\n",
       "      <td>0.727744</td>\n",
       "      <td>0.0010</td>\n",
       "      <td>578</td>\n",
       "      <td>569</td>\n",
       "      <td>1</td>\n",
       "      <td>790</td>\n",
       "      <td>373</td>\n",
       "      <td>4</td>\n",
       "      <td>5</td>\n",
       "      <td>7</td>\n",
       "      <td>0.077781</td>\n",
       "      <td>54.626302</td>\n",
       "      <td>3.950953</td>\n",
       "      <td>3.094283</td>\n",
       "    </tr>\n",
       "    <tr>\n",
       "      <th>2</th>\n",
       "      <td>2</td>\n",
       "      <td>none</td>\n",
       "      <td>0.745885</td>\n",
       "      <td>0.0100</td>\n",
       "      <td>588</td>\n",
       "      <td>529</td>\n",
       "      <td>2</td>\n",
       "      <td>428</td>\n",
       "      <td>1198</td>\n",
       "      <td>2</td>\n",
       "      <td>5</td>\n",
       "      <td>6</td>\n",
       "      <td>0.030196</td>\n",
       "      <td>17.999964</td>\n",
       "      <td>0.368702</td>\n",
       "      <td>0.354206</td>\n",
       "    </tr>\n",
       "    <tr>\n",
       "      <th>3</th>\n",
       "      <td>3</td>\n",
       "      <td>none</td>\n",
       "      <td>0.474605</td>\n",
       "      <td>0.0010</td>\n",
       "      <td>829</td>\n",
       "      <td>103</td>\n",
       "      <td>4</td>\n",
       "      <td>877</td>\n",
       "      <td>313</td>\n",
       "      <td>6</td>\n",
       "      <td>5</td>\n",
       "      <td>7</td>\n",
       "      <td>0.057261</td>\n",
       "      <td>82.257222</td>\n",
       "      <td>1.004559</td>\n",
       "      <td>0.704138</td>\n",
       "    </tr>\n",
       "    <tr>\n",
       "      <th>4</th>\n",
       "      <td>4</td>\n",
       "      <td>elasticnet</td>\n",
       "      <td>0.395049</td>\n",
       "      <td>0.0010</td>\n",
       "      <td>167</td>\n",
       "      <td>418</td>\n",
       "      <td>2</td>\n",
       "      <td>216</td>\n",
       "      <td>644</td>\n",
       "      <td>8</td>\n",
       "      <td>5</td>\n",
       "      <td>11</td>\n",
       "      <td>0.073728</td>\n",
       "      <td>95.515601</td>\n",
       "      <td>0.802800</td>\n",
       "      <td>0.502725</td>\n",
       "    </tr>\n",
       "  </tbody>\n",
       "</table>\n",
       "</div>"
      ],
      "text/plain": [
       "   id     penalty  l1_ratio   alpha  max_iter  random_state  n_jobs  \\\n",
       "0   0        none  0.304083  0.0001       417           475      -1   \n",
       "1   1          l1  0.727744  0.0010       578           569       1   \n",
       "2   2        none  0.745885  0.0100       588           529       2   \n",
       "3   3        none  0.474605  0.0010       829           103       4   \n",
       "4   4  elasticnet  0.395049  0.0010       167           418       2   \n",
       "\n",
       "   n_samples  n_features  n_classes  n_clusters_per_class  n_informative  \\\n",
       "0       1089         327          4                     3              7   \n",
       "1        790         373          4                     5              7   \n",
       "2        428        1198          2                     5              6   \n",
       "3        877         313          6                     5              7   \n",
       "4        216         644          8                     5             11   \n",
       "\n",
       "     flip_y      scale      time   newtime  \n",
       "0  0.074798  24.242009  0.409987  0.305729  \n",
       "1  0.077781  54.626302  3.950953  3.094283  \n",
       "2  0.030196  17.999964  0.368702  0.354206  \n",
       "3  0.057261  82.257222  1.004559  0.704138  \n",
       "4  0.073728  95.515601  0.802800  0.502725  "
      ]
     },
     "execution_count": 81,
     "metadata": {},
     "output_type": "execute_result"
    }
   ],
   "source": [
    "df = pd.read_csv(\"new_train_data.csv\")\n",
    "dt = pd.read_csv(\"new_test_data.csv\")\n",
    "rows = df[df['time'] > 2]\n",
    "# df2 = df.append(rows)\n",
    "# df2 = df.append(rows)\n",
    "# df2 = df.append(rows)\n",
    "# df2 = df.append(rows)\n",
    "# df2 = df.append(rows)\n",
    "# df2 = df.append(rows)\n",
    "# df = df2\n",
    "df.head()"
   ]
  },
  {
   "cell_type": "code",
   "execution_count": 12,
   "metadata": {},
   "outputs": [
    {
     "data": {
      "image/png": "[encoded data removed]",
      "text/plain": [
       "<matplotlib.figure.Figure at 0x1a14bf6e80>"
      ]
     },
     "metadata": {},
     "output_type": "display_data"
    },
    {
     "data": {
      "image/png": "[encoded data removed]",
      "text/plain": [
       "<matplotlib.figure.Figure at 0x1a14c0e7f0>"
      ]
     },
     "metadata": {},
     "output_type": "display_data"
    },
    {
     "data": {
      "image/png": "[encoded data removed]",
      "text/plain": [
       "<matplotlib.figure.Figure at 0x1a14a6ef28>"
      ]
     },
     "metadata": {},
     "output_type": "display_data"
    },
    {
     "data": {
      "image/png": "[encoded data removed]",
      "text/plain": [
       "<matplotlib.figure.Figure at 0x1a14ea9e80>"
      ]
     },
     "metadata": {},
     "output_type": "display_data"
    },
    {
     "data": {
      "image/png": "[encoded data removed]",
      "text/plain": [
       "<matplotlib.figure.Figure at 0x1a14ebd208>"
      ]
     },
     "metadata": {},
     "output_type": "display_data"
    },
    {
     "data": {
      "image/png": "[encoded data removed]",
      "text/plain": [
       "<matplotlib.figure.Figure at 0x1a14d12e80>"
      ]
     },
     "metadata": {},
     "output_type": "display_data"
    },
    {
     "data": {
      "image/png": "[encoded data removed]",
      "text/plain": [
       "<matplotlib.figure.Figure at 0x1a14d96668>"
      ]
     },
     "metadata": {},
     "output_type": "display_data"
    },
    {
     "data": {
      "image/png": "[encoded data removed]",
      "text/plain": [
       "<matplotlib.figure.Figure at 0x1a150d2e10>"
      ]
     },
     "metadata": {},
     "output_type": "display_data"
    },
    {
     "data": {
      "image/png": "[encoded data removed]",
      "text/plain": [
       "<matplotlib.figure.Figure at 0x1a151d32b0>"
      ]
     },
     "metadata": {},
     "output_type": "display_data"
    },
    {
     "data": {
      "image/png": "[encoded data removed]",
      "text/plain": [
       "<matplotlib.figure.Figure at 0x1a152fe198>"
      ]
     },
     "metadata": {},
     "output_type": "display_data"
    },
    {
     "data": {
      "image/png": "[encoded data removed]",
      "text/plain": [
       "<matplotlib.figure.Figure at 0x1a15413d68>"
      ]
     },
     "metadata": {},
     "output_type": "display_data"
    },
    {
     "data": {
      "image/png": "[encoded data removed]",
      "text/plain": [
       "<matplotlib.figure.Figure at 0x1a1552ab38>"
      ]
     },
     "metadata": {},
     "output_type": "display_data"
    },
    {
     "data": {
      "image/png": "[encoded data removed]",
      "text/plain": [
       "<matplotlib.figure.Figure at 0x1a154e3b70>"
      ]
     },
     "metadata": {},
     "output_type": "display_data"
    },
    {
     "data": {
      "image/png": "[encoded data removed]",
      "text/plain": [
       "<matplotlib.figure.Figure at 0x1a15668a90>"
      ]
     },
     "metadata": {},
     "output_type": "display_data"
    }
   ],
   "source": [
    "for col in list(df):\n",
    "    if col == 'id':\n",
    "        continue\n",
    "    df[col].hist()\n",
    "    plt.title(col)\n",
    "    plt.show()"
   ]
  },
  {
   "cell_type": "code",
   "execution_count": 13,
   "metadata": {},
   "outputs": [],
   "source": [
    "# dfg = copy.deepcopy(df)\n",
    "# for col in list(dfg):\n",
    "#     if col == 'id':\n",
    "#         continue\n",
    "#     dfg.loc[dfg['n_jobs'] == -1, ['n_jobs']] = 16\n",
    "    \n",
    "#     if str(df[col].dtype) != 'nominal' and str(df[col].dtype) != 'object':  \n",
    "        \n",
    "#         lf = np.log10(df[col])\n",
    "#         lf.hist()\n",
    "#         plt.title(col)\n",
    "#         plt.show()"
   ]
  },
  {
   "cell_type": "code",
   "execution_count": 101,
   "metadata": {},
   "outputs": [],
   "source": [
    "def log(x):\n",
    "#     return np.log(x)\n",
    "    return np.log(x)\n",
    "def restoreSeriesFromLog(array):\n",
    "    array = np.exp(array)\n",
    "#     array = np.power(10, array)\n",
    "    return array"
   ]
  },
  {
   "cell_type": "code",
   "execution_count": null,
   "metadata": {},
   "outputs": [],
   "source": []
  },
  {
   "cell_type": "code",
   "execution_count": 118,
   "metadata": {},
   "outputs": [],
   "source": [
    "\n",
    "label = 'time'\n",
    "logLabel = True\n",
    "ids = dt['id']\n",
    "scaler = MinMaxScaler()\n",
    "# scaler = QuantileTransformer(random_state=0)\n",
    "cnt = 0\n",
    "def preData(df, withLabel = True):\n",
    "    global cnt, scaler\n",
    "#     global cnt\n",
    "    cnt += 1\n",
    "    df2 = copy.deepcopy(df)\n",
    "    labelEncode(df2, 'penalty')\n",
    "    df2 = df2.drop('penalty', axis = 1)\n",
    "    df2 = df2.drop('id', axis = 1)\n",
    "    df2 = df2.drop('random_state', axis = 1)\n",
    "    \n",
    "#     df2 = df2.drop('n_clusters_per_class', axis = 1)\n",
    "    \n",
    "    df2['multi'] = df2['n_features']*df2['n_samples']*df2['max_iter']\n",
    "    \n",
    "#     df2['multi2'] = df2['n_features']*df2['n_samples']\n",
    "    \n",
    "\n",
    "    \n",
    "    MAX = 8\n",
    "    if withLabel:\n",
    "        df2.loc[df2['n_jobs'] == -1, ['n_jobs']] = MAX\n",
    "    else:\n",
    "        df2.loc[df2['n_jobs'] == -1, ['n_jobs']] = MAX\n",
    "\n",
    "\n",
    "#     df2['alpha'] = np.log10(df2['alpha'])\n",
    "\n",
    "#     if df2['n_jobs'] == -1:\n",
    "#         df2['max_jobs'] = 1\n",
    "#     else:\n",
    "#         df2['max_jobs'] = 0\n",
    "    \n",
    "   \n",
    "\n",
    "\n",
    "\n",
    "    if withLabel:\n",
    "        if logLabel:\n",
    "            df2[label] = log(df2[label])\n",
    "#     else:\n",
    "#         df2['newtime'] = log(df2['newtime'])\n",
    "    \n",
    "    \n",
    "    \n",
    "    # Log   \n",
    "    \n",
    "    df2['n_features'] = log(df2['n_features'])\n",
    "    df2['n_samples'] = log(df2['n_samples'])\n",
    "    df2['max_iter'] = log(df2['max_iter'])\n",
    "    df2['n_jobs'] = log(df2['n_jobs'])\n",
    "#     df2['n_classes'] = log(df2['n_classes'])\n",
    "    df2['multi'] = log(df2['multi'])\n",
    "    \n",
    "    df2['newtime'] = log(df2['newtime'])\n",
    "#     df2['n_informative'] = log(df2['n_informative'])\n",
    "#     df2['flip_y'] = log(df2['flip_y'])\n",
    "#     df2['alpha'] = log(df2['alpha'])\n",
    "#     df2['l1_ratio'] = log(df2['l1_ratio'])\n",
    "#     df2['scale'] = log(df2['scale'])\n",
    "#     df2['alpha'] = log(df2['alpha'])\n",
    "    \n",
    "    \n",
    "\n",
    "\n",
    "#     df2['penalty-labels'] = log(df2['penalty-labels']+1)\n",
    "#     df2['penalty-labels'] = df2['penalty-labels']+1\n",
    "#     df2['n_clusters_per_class'] = np.log(df2['n_clusters_per_class'])\n",
    "    \n",
    "#     df2['multi2'] = np.log10(df2['multi2'])\n",
    "    \n",
    "    if False:\n",
    "        Y = df2[label]\n",
    "#         plt.title(\"l1_ratio\")\n",
    "#         plt.scatter(df2['l1_ratio'].values, Y.values)\n",
    "#         plt.show()\n",
    "        plt.title(\"penalty-labels\")\n",
    "        plt.scatter(df2['penalty-labels'].values, Y.values)\n",
    "        plt.show()\n",
    "        plt.title(\"flip_y\")\n",
    "        plt.scatter(df2['flip_y'].values, Y.values)\n",
    "        plt.show()\n",
    "#         plt.title(\"alpha\")\n",
    "#         plt.scatter(df2['alpha'].values, Y.values)\n",
    "#         plt.show()\n",
    "        plt.title(\"n_informative\")\n",
    "        plt.scatter(df2['n_informative'].values, Y.values)\n",
    "        plt.show()\n",
    "        plt.title(\"n_jobs\")\n",
    "        plt.scatter(df2['n_jobs'].values, Y.values)\n",
    "        plt.show()\n",
    "        plt.title(\"n_classes\")\n",
    "        plt.scatter(df2['n_classes'].values, Y.values)\n",
    "        plt.show()\n",
    "        plt.title(\"n_features\")\n",
    "        plt.scatter(df2['n_features'].values, Y.values)\n",
    "        plt.show()\n",
    "        plt.title(\"n_samples\")\n",
    "        plt.scatter(df2['n_samples'].values, Y.values)\n",
    "        plt.show()\n",
    "        plt.title(\"max_iter\")\n",
    "        plt.scatter(df2['max_iter'].values, Y.values)\n",
    "        plt.show()\n",
    "        plt.title(\"multi\")\n",
    "        plt.scatter(df2['multi'].values, Y.values)\n",
    "        plt.show()\n",
    "#         plt.title(\"multi2\")\n",
    "#         plt.scatter(df2['multi2'].values, Y.values)\n",
    "#         plt.show()\n",
    "    \n",
    "    \n",
    "#     df2 = df2.drop('n_features', axis = 1)\n",
    "#     df2 = df2.drop('n_samples', axis = 1)\n",
    "#     df2 = df2.drop('max_iter', axis = 1)\n",
    "#\n",
    "\n",
    "#     df2 = df2.drop('n_informative', axis = 1)\n",
    "    \n",
    "    df2 = df2.drop('n_clusters_per_class', axis = 1)\n",
    "#     df2 = df2.drop('l1_ratio', axis = 1)\n",
    "    df2 = df2.drop('alpha', axis = 1)\n",
    "    df2 = df2.drop('scale', axis = 1)\n",
    "    \n",
    "#     df2 = df2.drop('multi', axis = 1)\n",
    "    \n",
    "#     df2 = df2.drop('n_jobs')\n",
    "    \n",
    "#     df2 = df2.drop('flip_y', axis = 1)\n",
    "\n",
    "    # Standarize data\n",
    "    ## init\n",
    "    \n",
    "    \n",
    "#     scaler = MinMaxScaler()\n",
    "    X = None\n",
    "    Y = None\n",
    "    scalerX = None\n",
    "    \n",
    "    if withLabel:\n",
    "        Y = df2[label]\n",
    "        X = df2.drop([label], axis = 1)\n",
    "    else:\n",
    "        X = df2\n",
    "        \n",
    "    \n",
    "    if cnt == 1:\n",
    "        scaler = scaler.fit(X)\n",
    "        scalerX = scaler.transform(X)\n",
    "    else:\n",
    "#         scaler = scaler.fit(X)\n",
    "        scalerX = scaler.transform(X)\n",
    "#     scaler.fit(X)\n",
    "#     scalerX = X\n",
    "#     scalerX = scaler.transform(X.values)\n",
    "    \n",
    "#     plt.scatter(df2['multi'].values, Y.values)\n",
    "#     plt.show()\n",
    "    if False:\n",
    "        i = 0\n",
    "        for col in list(df2):\n",
    "            if i == len(list(df2)) - 1:\n",
    "                continue\n",
    "            plt.scatter(scalerX[:, i], Y.values)\n",
    "            plt.title(col)\n",
    "            plt.show()\n",
    "            i +=1\n",
    "    \n",
    "    \n",
    "    if withLabel:\n",
    "        return X, scalerX, Y\n",
    "    else:\n",
    "        return X, scalerX\n",
    "    \n",
    "    \n",
    "\n",
    "X, scalerX, Y = preData(df, True)\n",
    "TX, scalerTX = preData(dt, False)"
   ]
  },
  {
   "cell_type": "code",
   "execution_count": 56,
   "metadata": {},
   "outputs": [
    {
     "name": "stdout",
     "output_type": "stream",
     "text": [
      "[[0.25630401 0.61573856 1.         ... 0.00661033 1.         0.62608501]\n",
      " [0.78930269 0.75950085 0.         ... 0.08562851 0.33333333 0.64751317]\n",
      " [0.81212576 0.76705387 0.32387163 ... 0.00798401 1.         0.73675416]\n",
      " ...\n",
      " [0.23048873 0.89652821 0.32387163 ... 0.05766526 1.         0.7978414 ]\n",
      " [0.54803212 0.83812879 1.         ... 0.02076402 0.66666667 0.83565318]\n",
      " [0.37386999 0.59741129 0.         ... 0.00453736 0.66666667 0.66551691]]\n"
     ]
    }
   ],
   "source": [
    "print(scalerX)"
   ]
  },
  {
   "cell_type": "code",
   "execution_count": null,
   "metadata": {},
   "outputs": [],
   "source": []
  },
  {
   "cell_type": "code",
   "execution_count": 88,
   "metadata": {},
   "outputs": [
    {
     "name": "stdout",
     "output_type": "stream",
     "text": [
      "None\n"
     ]
    }
   ],
   "source": [
    "print(scalerTX)"
   ]
  },
  {
   "cell_type": "code",
   "execution_count": 18,
   "metadata": {},
   "outputs": [
    {
     "name": "stdout",
     "output_type": "stream",
     "text": [
      "     max_iter    n_jobs  n_samples  n_features  n_classes  n_informative  \\\n",
      "0    2.620136  1.206826   3.037028    2.514548   0.602060       0.845098   \n",
      "1    2.761928  0.041393   2.897627    2.571709   0.602060       0.845098   \n",
      "2    2.769377  0.322219   2.631444    3.078457   0.301030       0.778151   \n",
      "3    2.918555  0.612784   2.943000    2.495544   0.778151       0.845098   \n",
      "4    2.222716  0.322219   2.334454    2.808886   0.903090       1.041393   \n",
      "5    2.993877  0.612784   3.144885    2.935003   0.602060       0.778151   \n",
      "6    2.968016  0.322219   2.958086    2.839478   0.698970       0.778151   \n",
      "7    2.625312  0.908485   2.830589    2.867467   0.954243       0.903090   \n",
      "8    2.488551  0.908485   2.697229    3.075912   0.301030       0.954243   \n",
      "9    2.707570  0.908485   3.139879    2.904716   0.954243       1.000000   \n",
      "10   2.680336  0.908485   3.071145    3.019947   0.845098       0.903090   \n",
      "11   2.413300  0.322219   2.934498    2.805501   1.000000       1.041393   \n",
      "12   2.790988  0.612784   2.797960    2.290035   0.477121       0.954243   \n",
      "13   2.824776  0.908485   2.698970    3.136721   0.954243       0.903090   \n",
      "14   2.586587  0.322219   2.957607    3.037426   0.698970       0.954243   \n",
      "15   2.012837  0.322219   2.045323    2.758155   0.477121       0.903090   \n",
      "16   2.839478  0.041393   2.684845    3.105851   0.477121       0.845098   \n",
      "17   2.856729  0.322219   2.012837    2.320146   0.954243       0.954243   \n",
      "18   2.423246  0.612784   2.810233    3.000434   0.477121       0.845098   \n",
      "19   2.562293  0.322219   3.097257    2.943000   0.602060       1.041393   \n",
      "20   2.328380  0.612784   2.346353    2.107210   0.778151       0.903090   \n",
      "21   2.447158  0.908485   2.526339    2.810233   0.477121       0.778151   \n",
      "22   2.328380  0.322219   2.933993    2.749736   0.903090       0.954243   \n",
      "23   2.485721  1.206826   2.847573    2.786041   1.000000       0.903090   \n",
      "24   2.841985  0.322219   2.950851    2.607455   0.477121       0.778151   \n",
      "25   2.940018  0.041393   2.238046    2.670246   0.778151       0.954243   \n",
      "26   2.988113  0.322219   2.629410    2.389166   0.845098       0.954243   \n",
      "27   2.882525  0.612784   2.766413    2.113943   0.778151       1.041393   \n",
      "28   2.113943  1.206826   3.094820    2.982271   1.000000       0.954243   \n",
      "29   2.927370  0.322219   2.611723    3.094471   0.954243       1.041393   \n",
      "..        ...       ...        ...         ...        ...            ...   \n",
      "370  2.155336  0.908485   3.145196    2.315970   0.698970       1.000000   \n",
      "371  2.966142  0.322219   3.031004    2.729974   0.602060       0.954243   \n",
      "372  2.795880  0.322219   2.807535    2.707570   0.698970       0.954243   \n",
      "373  2.217484  0.612784   3.096562    3.059563   0.954243       1.000000   \n",
      "374  2.842609  0.322219   2.804821    2.617000   0.903090       0.903090   \n",
      "375  2.804821  0.041393   2.931458    3.055378   0.845098       1.041393   \n",
      "376  2.690196  0.041393   3.088490    3.025715   0.698970       0.903090   \n",
      "377  2.905796  0.041393   3.104146    2.652246   0.698970       0.845098   \n",
      "378  2.232996  1.206826   2.819544    2.113943   0.602060       0.954243   \n",
      "379  2.585461  0.041393   2.711807    2.611723   0.845098       1.041393   \n",
      "380  2.309630  0.041393   2.232996    2.822822   0.477121       1.000000   \n",
      "381  2.998695  0.041393   2.943495    3.128076   0.477121       0.845098   \n",
      "382  2.730782  0.322219   2.170262    2.892651   0.954243       0.845098   \n",
      "383  2.798651  0.612784   2.068186    2.823474   0.602060       0.954243   \n",
      "384  2.501059  0.322219   3.132580    2.820201   0.903090       0.954243   \n",
      "385  2.801404  0.322219   2.663701    3.009451   0.301030       0.954243   \n",
      "386  2.845718  0.322219   3.117271    3.134496   0.778151       0.903090   \n",
      "387  2.181844  1.206826   2.931458    2.198657   0.845098       1.000000   \n",
      "388  2.821514  0.908485   2.902547    3.025715   0.954243       0.954243   \n",
      "389  2.920645  0.612784   2.657056    3.026533   0.602060       0.954243   \n",
      "390  2.644439  0.612784   2.133539    2.881385   0.903090       0.903090   \n",
      "391  2.794488  0.041393   2.953276    2.641474   0.778151       0.954243   \n",
      "392  2.662758  0.908485   2.096910    2.167317   0.845098       1.000000   \n",
      "393  2.622214  0.041393   2.838219    2.825426   0.477121       0.845098   \n",
      "394  2.932981  0.322219   2.925312    2.683947   0.301030       0.903090   \n",
      "395  2.428135  0.612784   3.049993    3.113943   0.698970       0.903090   \n",
      "396  2.558709  0.322219   3.039811    3.051538   0.477121       0.903090   \n",
      "397  2.897077  0.322219   2.623249    3.128722   0.845098       1.000000   \n",
      "398  2.839478  0.908485   3.082785    2.831870   0.903090       0.903090   \n",
      "399  2.602060  0.041393   2.878522    2.800717   0.301030       0.778151   \n",
      "\n",
      "       flip_y  penalty-labels     multi  \n",
      "0   -1.126110               4  8.171712  \n",
      "1   -1.109127               2  8.231264  \n",
      "2   -1.520047               4  8.479278  \n",
      "3   -1.242140               4  8.357098  \n",
      "4   -1.132369               1  7.366056  \n",
      "5   -1.011069               2  9.073765  \n",
      "6   -1.020796               4  8.765580  \n",
      "7   -1.392939               2  8.323369  \n",
      "8   -1.591103               2  8.261692  \n",
      "9   -1.608704               3  8.752165  \n",
      "10  -1.751905               4  8.771427  \n",
      "11  -1.441714               3  8.153299  \n",
      "12  -1.110228               1  7.878983  \n",
      "13  -1.066730               3  8.660467  \n",
      "14  -1.057008               3  8.581621  \n",
      "15  -2.231460               4  6.816315  \n",
      "16  -1.055955               4  8.630174  \n",
      "17  -1.264520               1  7.189712  \n",
      "18  -1.595879               1  8.233912  \n",
      "19  -1.360125               1  8.602550  \n",
      "20  -3.074831               4  6.781943  \n",
      "21  -1.177364               1  7.783730  \n",
      "22  -1.508097               4  8.012109  \n",
      "23  -1.591639               4  8.119335  \n",
      "24  -1.073674               2  8.400291  \n",
      "25  -1.319689               4  7.848310  \n",
      "26  -1.374406               1  8.006689  \n",
      "27  -1.050788               3  7.762881  \n",
      "28  -1.368271               4  8.191035  \n",
      "29  -1.549891               4  8.633565  \n",
      "..        ...             ...       ...  \n",
      "370 -1.431534               3  7.616503  \n",
      "371 -1.357622               2  8.727120  \n",
      "372 -1.127183               1  8.310985  \n",
      "373 -1.026740               1  8.373610  \n",
      "374 -1.366330               2  8.264430  \n",
      "375 -1.782012               3  8.791657  \n",
      "376 -1.079741               2  8.804402  \n",
      "377 -2.455529               4  8.662188  \n",
      "378 -1.096247               1  7.166483  \n",
      "379 -2.039923               3  7.908991  \n",
      "380 -1.095256               2  7.365448  \n",
      "381 -1.192678               2  9.070266  \n",
      "382 -1.794146               3  7.793695  \n",
      "383 -1.010862               2  7.690311  \n",
      "384 -1.549272               3  8.453841  \n",
      "385 -1.700330               4  8.474556  \n",
      "386 -1.014007               4  9.097485  \n",
      "387 -1.471731               2  7.311959  \n",
      "388 -1.038351               3  8.749776  \n",
      "389 -1.430657               2  8.604234  \n",
      "390 -1.138798               3  7.659362  \n",
      "391 -1.467788               2  8.389238  \n",
      "392 -1.219079               4  6.926985  \n",
      "393 -2.149071               1  8.285859  \n",
      "394 -1.201230               1  8.542240  \n",
      "395 -1.292726               4  8.592071  \n",
      "396 -1.068634               2  8.650058  \n",
      "397 -1.069347               4  8.649049  \n",
      "398 -1.576569               3  8.754133  \n",
      "399 -1.097048               3  8.281299  \n",
      "\n",
      "[400 rows x 9 columns]\n"
     ]
    }
   ],
   "source": [
    "print(X)"
   ]
  },
  {
   "cell_type": "code",
   "execution_count": null,
   "metadata": {},
   "outputs": [],
   "source": []
  },
  {
   "cell_type": "markdown",
   "metadata": {},
   "source": [
    "## Drop column by priori knowledge"
   ]
  },
  {
   "cell_type": "code",
   "execution_count": 19,
   "metadata": {},
   "outputs": [],
   "source": [
    "# df2 = df2.drop('random_state', axis = 1)"
   ]
  },
  {
   "cell_type": "markdown",
   "metadata": {},
   "source": [
    "## Deal with special value"
   ]
  },
  {
   "cell_type": "code",
   "execution_count": 20,
   "metadata": {},
   "outputs": [],
   "source": [
    "# MAX = 32\n",
    "# df2.loc[df2['n_jobs'] == -1, ['n_jobs']] = MAX"
   ]
  },
  {
   "cell_type": "code",
   "execution_count": 21,
   "metadata": {},
   "outputs": [],
   "source": [
    "# df2.head()"
   ]
  },
  {
   "cell_type": "markdown",
   "metadata": {},
   "source": [
    "## Normalization and Mathematic process"
   ]
  },
  {
   "cell_type": "code",
   "execution_count": 22,
   "metadata": {},
   "outputs": [],
   "source": [
    "# df2['alpha'] = np.log10(df2['alpha'])\n"
   ]
  },
  {
   "cell_type": "code",
   "execution_count": 23,
   "metadata": {},
   "outputs": [],
   "source": [
    "# df3 = copy.deepcopy(df2)\n",
    "# df3['time'] = np.log10(df3['time'])"
   ]
  },
  {
   "cell_type": "code",
   "execution_count": 24,
   "metadata": {},
   "outputs": [],
   "source": [
    "# df2 = df3"
   ]
  },
  {
   "cell_type": "code",
   "execution_count": 25,
   "metadata": {},
   "outputs": [],
   "source": [
    "# def restoreDfFromLog(df):\n",
    "# #     df['time'] = np.exp(df['time'])\n",
    "#     return df"
   ]
  },
  {
   "cell_type": "code",
   "execution_count": null,
   "metadata": {},
   "outputs": [],
   "source": []
  },
  {
   "cell_type": "code",
   "execution_count": null,
   "metadata": {},
   "outputs": [],
   "source": [
    "\n",
    "\n"
   ]
  },
  {
   "cell_type": "code",
   "execution_count": 26,
   "metadata": {},
   "outputs": [],
   "source": [
    "# Y = df2[label]\n",
    "# X = df2.drop([label], axis = 1)"
   ]
  },
  {
   "cell_type": "code",
   "execution_count": 27,
   "metadata": {},
   "outputs": [],
   "source": [
    "\n",
    "# X_train = normalize(X, norm='l2')\n",
    "\n",
    "# Don't cheat - fit only on training data\n",
    " \n",
    "# testF = normalize(td, norm='l2')"
   ]
  },
  {
   "cell_type": "code",
   "execution_count": 64,
   "metadata": {},
   "outputs": [],
   "source": [
    "def outputResult(nparray, filename = \"Results.csv\"):\n",
    "    if logLabel:\n",
    "        nparray = restoreSeriesFromLog(nparray)\n",
    "    result = pd.DataFrame(nparray)\n",
    "    ans = pd.concat([ids, result], axis = 1)\n",
    "    ans.rename(columns={0: 'time'}, inplace=True)\n",
    "    ans[ans < 0] = 0\n",
    "    ans.rename(columns={'id': 'Id'}, inplace=True)\n",
    "    ans.to_csv(filename, index = False)"
   ]
  },
  {
   "cell_type": "code",
   "execution_count": 65,
   "metadata": {},
   "outputs": [],
   "source": [
    "from sklearn.metrics import make_scorer\n",
    "def restoreMSE(y_true, y_pred):\n",
    "    mse = mean_squared_error(restoreSeriesFromLog(y_true), restoreSeriesFromLog(y_pred))\n",
    "    return mse\n",
    "score = make_scorer(restoreMSE, greater_is_better=False)\n"
   ]
  },
  {
   "cell_type": "code",
   "execution_count": 66,
   "metadata": {},
   "outputs": [],
   "source": [
    "def rand_cv_evaluate(model, params_dist,n_iter_search, cv_n, t_X = X, t_Y = Y):\n",
    "    clf = RandomizedSearchCV(model, params_dist, n_iter=n_iter_search, cv=cv_n, scoring=score )\n",
    "    clf.fit(t_X, t_Y)\n",
    "    print(clf.best_params_)\n",
    "    means = clf.cv_results_['mean_test_score']\n",
    "    stds = clf.cv_results_['std_test_score']\n",
    "    for mean, std, params in zip(means, stds, clf.cv_results_['params']):\n",
    "        print(\"%0.3f (+/-%0.03f) for %r\"\n",
    "                  % (mean, std * 2, params))\n",
    "    preds = clf.predict(t_X)\n",
    "    if logLabel:\n",
    "        preds = restoreSeriesFromLog(preds)\n",
    "    preds = pd.DataFrame(preds)\n",
    "    \n",
    "    preds.to_csv('Rand_Test_result.csv')\n",
    "    return clf"
   ]
  },
  {
   "cell_type": "code",
   "execution_count": 67,
   "metadata": {},
   "outputs": [],
   "source": [
    "def cv_evaluate(model, params, cv_n, t_X = X, t_Y = Y):\n",
    "    clf = GridSearchCV(model, params, cv=cv_n, scoring=score )\n",
    "    clf.fit(t_X, t_Y)\n",
    "    print(clf.best_params_)\n",
    "    means = clf.cv_results_['mean_test_score']\n",
    "    stds = clf.cv_results_['std_test_score']\n",
    "    for mean, std, params in zip(means, stds, clf.cv_results_['params']):\n",
    "        print(\"%0.3f (+/-%0.03f) for %r\"\n",
    "                  % (mean, std * 2, params))\n",
    "    preds = clf.predict(t_X)\n",
    "    \n",
    "    if logLabel:\n",
    "        preds = restoreSeriesFromLog(preds)\n",
    "    preds = pd.DataFrame(preds)\n",
    "    preds.to_csv('Test_result.csv')\n",
    "    return clf"
   ]
  },
  {
   "cell_type": "markdown",
   "metadata": {},
   "source": [
    "# Start Modeling"
   ]
  },
  {
   "cell_type": "code",
   "execution_count": null,
   "metadata": {},
   "outputs": [],
   "source": []
  },
  {
   "cell_type": "code",
   "execution_count": null,
   "metadata": {},
   "outputs": [],
   "source": []
  },
  {
   "cell_type": "code",
   "execution_count": null,
   "metadata": {},
   "outputs": [],
   "source": []
  },
  {
   "cell_type": "code",
   "execution_count": null,
   "metadata": {},
   "outputs": [],
   "source": []
  },
  {
   "cell_type": "code",
   "execution_count": null,
   "metadata": {},
   "outputs": [],
   "source": []
  },
  {
   "cell_type": "code",
   "execution_count": null,
   "metadata": {},
   "outputs": [],
   "source": []
  },
  {
   "cell_type": "code",
   "execution_count": 32,
   "metadata": {},
   "outputs": [],
   "source": [
    "import xgboost as xgb\n",
    "from sklearn.model_selection import train_test_split\n",
    "from sklearn.metrics import accuracy_score\n",
    "import pandas_ml as pdml\n",
    "import time \n",
    "from sklearn.metrics import mean_squared_error\n",
    "\n",
    "# train, test = train_test_split(df2, test_size=0.2, random_state=42)\n",
    "\n",
    "# train_Y = train[label]\n",
    "# train_X = train.drop([label],axis=1)\n",
    "\n",
    "# test_Y = test[label]\n",
    "# test_X = test.drop([label],axis=1)"
   ]
  },
  {
   "cell_type": "code",
   "execution_count": 33,
   "metadata": {},
   "outputs": [],
   "source": [
    "from sklearn import svm, datasets\n",
    "from sklearn.decomposition import PCA\n",
    "import numpy as np\n",
    "from sklearn.model_selection import cross_val_score"
   ]
  },
  {
   "cell_type": "code",
   "execution_count": null,
   "metadata": {},
   "outputs": [],
   "source": []
  },
  {
   "cell_type": "code",
   "execution_count": null,
   "metadata": {},
   "outputs": [],
   "source": [
    "\n",
    "\n"
   ]
  },
  {
   "cell_type": "code",
   "execution_count": null,
   "metadata": {},
   "outputs": [],
   "source": []
  },
  {
   "cell_type": "code",
   "execution_count": null,
   "metadata": {},
   "outputs": [],
   "source": []
  },
  {
   "cell_type": "code",
   "execution_count": null,
   "metadata": {},
   "outputs": [],
   "source": []
  },
  {
   "cell_type": "code",
   "execution_count": 34,
   "metadata": {},
   "outputs": [],
   "source": [
    "# dtrain = xgb.DMatrix(train_X.as_matrix(), label = train_Y.tolist())\n",
    "# dtest = xgb.DMatrix(test_X.as_matrix(), label = test_Y.tolist())"
   ]
  },
  {
   "cell_type": "code",
   "execution_count": 35,
   "metadata": {},
   "outputs": [],
   "source": [
    "params={\n",
    "'booster':'gbtree',\n",
    "'objective': \"reg:linear\",\n",
    "'gamma':0,  # paramter to control if do post-prune, the bigger the more conservative\n",
    "'max_depth':6, # the bigger the more possible to be overfitting\n",
    "'lambda':1,  # rate of L2 regulatation\n",
    "'subsample':1, # random sample\n",
    "'colsample_bytree':1, # column sample rate in generating tree\n",
    "'min_child_weight':1, \n",
    "# default is 1，the smaller of this, the more possible to be overfitting。 \n",
    "'silent':1 ,#if print log.\n",
    " 'learning_rate': 0.1,\n",
    "'eta': 0.1, # similar with learning rate\n",
    "'seed':0,\n",
    "'nthread':4,\n",
    "\"n_estimators\":100\n",
    "#'eval_metric': 'auc'\n",
    "}"
   ]
  },
  {
   "cell_type": "code",
   "execution_count": 36,
   "metadata": {},
   "outputs": [
    {
     "ename": "NameError",
     "evalue": "name 'dtrain' is not defined",
     "output_type": "error",
     "traceback": [
      "\u001b[0;31m---------------------------------------------------------------------------\u001b[0m",
      "\u001b[0;31mNameError\u001b[0m                                 Traceback (most recent call last)",
      "\u001b[0;32m<ipython-input-36-1097c80301bc>\u001b[0m in \u001b[0;36m<module>\u001b[0;34m()\u001b[0m\n\u001b[1;32m      1\u001b[0m \u001b[0mnum_round\u001b[0m \u001b[0;34m=\u001b[0m \u001b[0;36m5\u001b[0m\u001b[0;34m\u001b[0m\u001b[0m\n\u001b[1;32m      2\u001b[0m \u001b[0;31m# start_time = time.time()\u001b[0m\u001b[0;34m\u001b[0m\u001b[0;34m\u001b[0m\u001b[0m\n\u001b[0;32m----> 3\u001b[0;31m \u001b[0mbst\u001b[0m \u001b[0;34m=\u001b[0m \u001b[0mxgb\u001b[0m\u001b[0;34m.\u001b[0m\u001b[0mtrain\u001b[0m\u001b[0;34m(\u001b[0m\u001b[0mparams\u001b[0m\u001b[0;34m,\u001b[0m \u001b[0mdtrain\u001b[0m\u001b[0;34m,\u001b[0m \u001b[0mnum_round\u001b[0m\u001b[0;34m)\u001b[0m\u001b[0;34m\u001b[0m\u001b[0m\n\u001b[0m\u001b[1;32m      4\u001b[0m \u001b[0mbst\u001b[0m\u001b[0;34m.\u001b[0m\u001b[0msave_model\u001b[0m\u001b[0;34m(\u001b[0m\u001b[0;34m'xgb.model'\u001b[0m\u001b[0;34m)\u001b[0m\u001b[0;34m\u001b[0m\u001b[0m\n\u001b[1;32m      5\u001b[0m \u001b[0;31m# # make prediction\u001b[0m\u001b[0;34m\u001b[0m\u001b[0;34m\u001b[0m\u001b[0m\n",
      "\u001b[0;31mNameError\u001b[0m: name 'dtrain' is not defined"
     ]
    }
   ],
   "source": [
    "num_round = 5\n",
    "# start_time = time.time()\n",
    "bst = xgb.train(params, dtrain, num_round)\n",
    "bst.save_model('xgb.model')\n",
    "# # make prediction\n",
    "labels = dtest.get_label()\n",
    "preds = bst.predict(dtest)\n",
    "mean_squared_error(list(test_Y), list(preds))"
   ]
  },
  {
   "cell_type": "code",
   "execution_count": null,
   "metadata": {},
   "outputs": [],
   "source": []
  },
  {
   "cell_type": "code",
   "execution_count": null,
   "metadata": {},
   "outputs": [],
   "source": [
    "params={\n",
    "    'base_score': 0.5,\n",
    "'booster':'gbtree',\n",
    "'objective': \"reg:linear\",\n",
    "'gamma':0.3,  # paramter to control if do post-prune, the bigger the more conservative\n",
    "'max_depth':7, # the bigger the more possible to be overfitting\n",
    "'reg_lambda':5,  # rate of L2 regulatation\n",
    "'subsample':1, # random sample\n",
    "'colsample_bytree':0.85, # column sample rate in generating tree\n",
    "'colsample_bylevel':1,\n",
    "'min_child_weight': 1, \n",
    "\"scale_pos_weight\" :1,\n",
    "\"reg_alpha\":6,\n",
    " \"learning_rate\": 0.1,\n",
    "# default is 1，the smaller of this, the more possible to be overfitting。 \n",
    "'silent':1 ,#if print log.\n",
    "'eta': 0.1, # similar with learning rate\n",
    "'seed':0,\n",
    "'nthread':4,\n",
    "\"n_estimators\":250,\n",
    "# 'eval_metric': 'nmse'\n",
    "}\n",
    "dfm = pdml.ModelFrame(df2, target = label)\n",
    "train_df, test_df = dfm.ms.train_test_split(test_size=0.2, random_state=42)\n",
    "estimator = dfm.xgboost.XGBRegressor(**params)\n",
    "model = train_df.fit(estimator)\n",
    "model.save_model(\"ass2.model\")\n",
    "predicted = test_df.predict(estimator)\n",
    "mean_squared_error(list(test_Y), list(predicted))"
   ]
  },
  {
   "cell_type": "code",
   "execution_count": null,
   "metadata": {},
   "outputs": [],
   "source": [
    "# print(predicted)"
   ]
  },
  {
   "cell_type": "code",
   "execution_count": null,
   "metadata": {},
   "outputs": [],
   "source": [
    "\n",
    "Y.head()"
   ]
  },
  {
   "cell_type": "code",
   "execution_count": null,
   "metadata": {},
   "outputs": [],
   "source": [
    "pd.set_option('max_columns',1000) \n",
    "pd.set_option('max_row',1000)"
   ]
  },
  {
   "cell_type": "code",
   "execution_count": null,
   "metadata": {},
   "outputs": [],
   "source": [
    "learning_rate_range = [0.1]\n",
    "# max depth = 9 is the best according to pre-running\n",
    "tuned_parameters = [{'max_depth': [7], \"learning_rate\": learning_rate_range, \n",
    "                    'reg_lambda': [5], \"reg_alpha\":[6] , \"gamma\": [0.3], \"colsample_bytree\": [0.85], \"min_child_weight\":[1],\n",
    "                     \"colsample_bylevel\":[1], \"scale_pos_weight\" : [1], \"subsample\" : [1], 'n_estimators': [200, 250]}]\n",
    "# cv means cross-validation\n",
    "cv = dfm.grid_search.GridSearchCV(dfm.xgb.XGBRegressor(), tuned_parameters, cv=10, scoring='neg_mean_squared_error')\n",
    "dfm.fit(cv)\n",
    "a = dfm.grid_search.describe(cv)"
   ]
  },
  {
   "cell_type": "code",
   "execution_count": null,
   "metadata": {},
   "outputs": [],
   "source": [
    "maxval = max(a['mean'])\n",
    "\n",
    "tol = 0.5\n",
    "maxval"
   ]
  },
  {
   "cell_type": "code",
   "execution_count": null,
   "metadata": {},
   "outputs": [],
   "source": [
    "estimator = cv.best_estimator_\n",
    "estimator.save_model('bst.model')"
   ]
  },
  {
   "cell_type": "code",
   "execution_count": null,
   "metadata": {},
   "outputs": [],
   "source": []
  },
  {
   "cell_type": "code",
   "execution_count": null,
   "metadata": {},
   "outputs": [],
   "source": [
    "from xgboost.sklearn import XGBRegressor\n",
    "params = {'gamma' : [0.1, 100]}\n",
    "cv1 = GridSearchCV(estimator = XGBRegressor( learning_rate =0.1, n_estimators=140, max_depth=5, \n",
    "                                                 min_child_weight=1, gamma=0, subsample=0.8, colsample_bytree=0.8, objective= 'reg:linear', nthread=4, scale_pos_weight=1, seed=27), \n",
    "                        param_grid = params, scoring='neg_mean_squared_error', cv=5)\n",
    "# gsearch1.fit(train_X, train_Y)\n",
    "# gsearch1.grid_scores_, gsearch1.best_params_, gsearch1.best_score_"
   ]
  },
  {
   "cell_type": "code",
   "execution_count": null,
   "metadata": {},
   "outputs": [],
   "source": [
    "cv1.fit(train_X, train_Y)\n",
    "print(cv1.best_params_)\n",
    "print()\n"
   ]
  },
  {
   "cell_type": "code",
   "execution_count": null,
   "metadata": {},
   "outputs": [],
   "source": []
  },
  {
   "cell_type": "code",
   "execution_count": null,
   "metadata": {},
   "outputs": [],
   "source": [
    "\n",
    "\n",
    "\n"
   ]
  },
  {
   "cell_type": "code",
   "execution_count": null,
   "metadata": {},
   "outputs": [],
   "source": []
  },
  {
   "cell_type": "code",
   "execution_count": null,
   "metadata": {},
   "outputs": [],
   "source": [
    "\n",
    "td2.head()"
   ]
  },
  {
   "cell_type": "code",
   "execution_count": null,
   "metadata": {},
   "outputs": [],
   "source": []
  },
  {
   "cell_type": "code",
   "execution_count": null,
   "metadata": {},
   "outputs": [],
   "source": [
    "bst2 = xgb.Booster(model_file='bst.model')\n",
    "xgb.to_graphviz(bst2, num_trees=10).render(\"XGB.jpg\")\n",
    "\n",
    "dtest2 = xgb.DMatrix(td2.as_matrix())\n",
    "preds = bst.predict(dtest2)\n",
    "result = pd.DataFrame(preds)\n",
    "\n",
    "ans = pd.concat([ids, result], axis = 1)\n",
    "ans.rename(columns={0: 'time'}, inplace=True)\n",
    "ans.rename(columns={'id': 'Id'}, inplace=True)\n",
    "# should header be false\n",
    "ans.to_csv(\"Submission.csv\", index = False)"
   ]
  },
  {
   "cell_type": "markdown",
   "metadata": {},
   "source": [
    "# XGBOOST"
   ]
  },
  {
   "cell_type": "code",
   "execution_count": null,
   "metadata": {},
   "outputs": [],
   "source": []
  },
  {
   "cell_type": "code",
   "execution_count": null,
   "metadata": {},
   "outputs": [],
   "source": [
    "from xgboost.sklearn import XGBRegressor\n",
    "params={\n",
    "    'base_score': 0.5,\n",
    "'booster':'gbtree',\n",
    "'objective': \"reg:linear\",\n",
    "'gamma':0.1,  # paramter to control if do post-prune, the bigger the more conservative\n",
    "'max_depth':7, # the bigger the more possible to be overfitting\n",
    "'reg_lambda':1,  # rate of L2 regulatation\n",
    "'subsample':1, # random sample\n",
    "'colsample_bytree':1, # column sample rate in generating tree\n",
    "'colsample_bylevel':1,\n",
    "'min_child_weight': 1, \n",
    "\"scale_pos_weight\" :1,\n",
    "\"reg_alpha\":1,\n",
    "# default is 1，the smaller of this, the more possible to be overfitting。 \n",
    "'silent':1 ,#if print log.\n",
    "'learning_rate': 0.1, # alias of  learning rate\n",
    "'seed':0,\n",
    "'nthread':4,\n",
    "\"n_estimators\":250, # > a number will be OK, but can not be smaller\n",
    "# 'eval_metric': 'nmse'\n",
    "}"
   ]
  },
  {
   "cell_type": "code",
   "execution_count": null,
   "metadata": {},
   "outputs": [],
   "source": []
  },
  {
   "cell_type": "code",
   "execution_count": null,
   "metadata": {},
   "outputs": [],
   "source": [
    "xgbooster = XGBRegressor(**params)\n",
    "# xgbooster.fit(X, Y)\n",
    "params = {'gamma' : [0], 'max_depth': list(range(6, 7)), 'reg_lambda': [4], \"reg_alpha\": [1],\n",
    "         \"colsample_bytree\": [1], \"n_estimators\":[300], \"scale_pos_weight\": [1], \"learning_rate\": [0.1] }\n",
    "cv_xgboost = cv_evaluate(xgbooster, params, 10, scalerX, Y)\n",
    "model = cv_xgboost.best_estimator_\n"
   ]
  },
  {
   "cell_type": "code",
   "execution_count": null,
   "metadata": {},
   "outputs": [],
   "source": [
    "model.save_model(\"bst.model\")\n",
    "result = model.predict(scalerTX)\n",
    "outputResult(result)"
   ]
  },
  {
   "cell_type": "code",
   "execution_count": null,
   "metadata": {},
   "outputs": [],
   "source": [
    "from scipy.stats import rv_discrete\n",
    "def generate_uniform(value):\n",
    "    lenth = len(value)\n",
    "    rates = [1/lenth]*lenth\n",
    "    dist = rv_discrete(values=(value, rates))\n",
    "    return dist\n",
    "def div_list(lists, div):\n",
    "    return list(map(lambda x: x/div, lists))"
   ]
  },
  {
   "cell_type": "code",
   "execution_count": null,
   "metadata": {},
   "outputs": [],
   "source": [
    "\n",
    "# gamma = list(range(0, 5))\n",
    "# gamma_dist = generate_uniform(gamma)\n",
    "\n",
    "\n",
    "# reg_lambda = list(range(0, 7))\n",
    "# reg_lambda_dist = generate_uniform(reg_lambda)\n",
    "\n",
    "# reg_alpha = list(range(0, 7))\n",
    "# reg_alpha_dist = generate_uniform(reg_alpha)\n",
    "\n",
    "# n_estimators = list(range(70, 390))\n",
    "# n_estimators_dist = generate_uniform(n_estimators)\n",
    "\n",
    "# col_bytree = list(range(7, 10))\n",
    "# col_bytree = div_list(col_bytree, 10)\n",
    "# col_bytree_dist = generate_uniform(col_bytree)\n",
    "\n",
    "# col_bylev = list(range(8, 10))\n",
    "# col_bylev = div_list(col_bylev, 10)\n",
    "# col_bylev_dist = generate_uniform(col_bylev)\n",
    "\n",
    "# min_child = list(range(10, 20))\n",
    "# min_child = div_list(min_child, 10)\n",
    "# min_child_dist = generate_uniform(min_child)\n",
    "\n",
    "# subsample = list(range(5, 10))\n",
    "# subsample = div_list(subsample, 10)\n",
    "# subsample_dist = generate_uniform(subsample)\n",
    "\n",
    "# scale_pos = list(range(8, 12))\n",
    "# scale_pos = div_list(scale_pos, 10)\n",
    "# scale_pos_dist = generate_uniform(scale_pos)\n",
    "\n",
    "# eta = list(range(5, 30))\n",
    "# eta = div_list(eta, 100)\n",
    "# eta_dist = generate_uniform(eta)\n",
    "\n",
    "\n",
    "\n",
    "\n",
    "# param_dist = {\"max_depth\": sp_randint(5, 12),\n",
    "#               'gamma' : [0.2],\n",
    "#               'reg_lambda': sp_randint(0, 7),\n",
    "#               \"reg_alpha\": sp_randint(0, 7),\n",
    "#               \"n_estimators\":sp_randint(70, 390),\n",
    "#               \"colsample_bytree\": [0.8],\n",
    "#               'colsample_bylevel': [1],\n",
    "#               'min_child_weight': [1],\n",
    "#               'subsample': [1],\n",
    "#               \"scale_pos_weight\": [1], \n",
    "#               'learning_rate': [0.1],\n",
    "#               }\n",
    "# xgbooster2 = XGBRegressor(**params)\n",
    "# n_iter = 20\n",
    "# cv_xgboost_2 = rand_cv_evaluate(xgbooster, param_dist, n_iter, 10)\n"
   ]
  },
  {
   "cell_type": "code",
   "execution_count": null,
   "metadata": {},
   "outputs": [],
   "source": [
    "sp_randint(2, 3).rvs()"
   ]
  },
  {
   "cell_type": "markdown",
   "metadata": {},
   "source": [
    "# SVM"
   ]
  },
  {
   "cell_type": "code",
   "execution_count": null,
   "metadata": {},
   "outputs": [],
   "source": [
    "print(scalerX)"
   ]
  },
  {
   "cell_type": "code",
   "execution_count": null,
   "metadata": {},
   "outputs": [],
   "source": []
  },
  {
   "cell_type": "markdown",
   "metadata": {
    "collapsed": true
   },
   "source": [
    "# Neural Network"
   ]
  },
  {
   "cell_type": "code",
   "execution_count": 37,
   "metadata": {},
   "outputs": [
    {
     "data": {
      "text/plain": [
       "MLPRegressor(activation='relu', alpha=0.0001, batch_size='auto', beta_1=0.9,\n",
       "       beta_2=0.999, early_stopping=False, epsilon=1e-08,\n",
       "       hidden_layer_sizes=(100,), learning_rate='constant',\n",
       "       learning_rate_init=0.001, max_iter=200, momentum=0.9,\n",
       "       nesterovs_momentum=True, power_t=0.5, random_state=None,\n",
       "       shuffle=True, solver='adam', tol=0.0001, validation_fraction=0.1,\n",
       "       verbose=False, warm_start=False)"
      ]
     },
     "execution_count": 37,
     "metadata": {},
     "output_type": "execute_result"
    }
   ],
   "source": [
    "from sklearn.neural_network import MLPRegressor\n",
    "regressor = MLPRegressor()\n",
    "regressor"
   ]
  },
  {
   "cell_type": "code",
   "execution_count": 141,
   "metadata": {},
   "outputs": [
    {
     "name": "stdout",
     "output_type": "stream",
     "text": [
      "{'activation': 'relu', 'alpha': 0.005, 'early_stopping': True, 'hidden_layer_sizes': 16, 'max_iter': 1000, 'solver': 'lbfgs', 'warm_start': True}\n",
      "-0.352 (+/-0.367) for {'activation': 'relu', 'alpha': 0.005, 'early_stopping': True, 'hidden_layer_sizes': 16, 'max_iter': 1000, 'solver': 'lbfgs', 'warm_start': True}\n",
      "-0.372 (+/-0.448) for {'activation': 'relu', 'alpha': 0.005, 'early_stopping': True, 'hidden_layer_sizes': 32, 'max_iter': 1000, 'solver': 'lbfgs', 'warm_start': True}\n",
      "-0.567 (+/-0.881) for {'activation': 'relu', 'alpha': 0.005, 'early_stopping': True, 'hidden_layer_sizes': 64, 'max_iter': 1000, 'solver': 'lbfgs', 'warm_start': True}\n",
      "-0.483 (+/-0.639) for {'activation': 'relu', 'alpha': 0.005, 'early_stopping': True, 'hidden_layer_sizes': 128, 'max_iter': 1000, 'solver': 'lbfgs', 'warm_start': True}\n"
     ]
    }
   ],
   "source": [
    "\n",
    "# lbfgs\n",
    "# [(i, i, i) for i in range(2, 15)\n",
    "param_grid = {\n",
    "              'hidden_layer_sizes': [16, 32, 64, 128],\n",
    "              'activation': ['relu'],\n",
    "              'solver': ['lbfgs'],\n",
    "#               'learning_rate': ['constant'],\n",
    "#               'learning_rate_init': [0.001],\n",
    "#               'power_t': [0.5],\n",
    "              'alpha': [0.005],\n",
    "              'max_iter': [1000],\n",
    "              'early_stopping': [True],\n",
    "#               \"random_state\": [999],\n",
    "              'warm_start': [True]}\n",
    "# regressor = MLPRegressor(hidden_layer_sizes = [84, 42, 21])\n",
    "regressor = MLPRegressor(max_iter = 1000)\n",
    "model = regressor.fit(scalerX, Y)\n",
    "# params = {'max_iter':[500, 800, 1000], \"hidden_layer_sizes\": }\n",
    "cv_neural = cv_evaluate(model, param_grid, 10, scalerX, Y)\n",
    "bst_neural = cv_neural.best_estimator_"
   ]
  },
  {
   "cell_type": "code",
   "execution_count": 142,
   "metadata": {},
   "outputs": [],
   "source": [
    "from sklearn.ensemble import AdaBoostRegressor\n",
    "ensemble = AdaBoostRegressor(base_estimator=bst_neural, n_estimators=50, learning_rate=0.5, loss= 'linear')\n",
    "params_ensemble = {\n",
    "    'learning_rate': [0.5],\n",
    "    'loss': ['linear']\n",
    "}\n",
    "ensemble_model = ensemble.fit(scalerX, Y)\n",
    "# cv_ensembles = cv_evaluate(ensemble, params_ensemble, 10, scalerX, Y)"
   ]
  },
  {
   "cell_type": "code",
   "execution_count": null,
   "metadata": {},
   "outputs": [],
   "source": []
  },
  {
   "cell_type": "code",
   "execution_count": 143,
   "metadata": {},
   "outputs": [
    {
     "name": "stdout",
     "output_type": "stream",
     "text": [
      "0.9955266095124883\n",
      "[0.14720828 0.11681667 0.15567755 0.14546222 0.14895849 0.15840894\n",
      " 0.29777645 0.19757698 0.25306586 0.20583492 0.18367779 0.32457555\n",
      " 0.19947117 0.29523517 0.16281153 0.22313814 0.24878982 0.25078841\n",
      " 0.12285601 0.24835837 0.12368163 0.1794841  0.1892324  0.16883308\n",
      " 0.16756034 0.29605146 0.22025889 0.20853393 0.32121399 0.24925186\n",
      " 0.31674524 0.36452841 0.17346563 0.14063071 0.33969586 0.12443497\n",
      " 0.18421297 0.22691954 0.13156339 0.19545481 0.28697563 0.39456281\n",
      " 0.27820895 0.15735415 0.23239261 0.26419307 0.31212995 0.18487134\n",
      " 0.34489484 0.12727661]\n",
      "0.15130669071187913\n"
     ]
    }
   ],
   "source": [
    "print(ensemble_model.score(scalerX, Y))\n",
    "print(ensemble_model.estimator_errors_)\n",
    "test_result = ensemble_model.predict(scalerX[:400])\n",
    "pd.DataFrame(restoreSeriesFromLog(test_result)).to_csv('test_result2.csv')\n",
    "print(mean_squared_error(restoreSeriesFromLog(test_result[:400]), restoreSeriesFromLog(Y[:400])))"
   ]
  },
  {
   "cell_type": "code",
   "execution_count": 78,
   "metadata": {},
   "outputs": [
    {
     "name": "stdout",
     "output_type": "stream",
     "text": [
      "None\n"
     ]
    }
   ],
   "source": [
    "print(scalerTX)"
   ]
  },
  {
   "cell_type": "code",
   "execution_count": 123,
   "metadata": {},
   "outputs": [],
   "source": [
    "bst_neural = cv_neural.best_estimator_\n",
    "preds = bst_neural.predict(scalerTX)\n",
    "outputResult(preds)"
   ]
  },
  {
   "cell_type": "code",
   "execution_count": null,
   "metadata": {},
   "outputs": [],
   "source": []
  },
  {
   "cell_type": "code",
   "execution_count": null,
   "metadata": {},
   "outputs": [],
   "source": []
  },
  {
   "cell_type": "code",
   "execution_count": null,
   "metadata": {},
   "outputs": [],
   "source": [
    "bst_neural2 = cv_ensembles.best_estimator_\n",
    "preds2 = bst_neural2.predict(scalerTX)\n",
    "outputResult(preds2)"
   ]
  },
  {
   "cell_type": "code",
   "execution_count": 144,
   "metadata": {},
   "outputs": [],
   "source": [
    "preds3 = ensemble_model.predict(scalerTX)\n",
    "\n",
    "outputResult(preds3)"
   ]
  },
  {
   "cell_type": "markdown",
   "metadata": {},
   "source": [
    "# SVM"
   ]
  },
  {
   "cell_type": "code",
   "execution_count": null,
   "metadata": {},
   "outputs": [],
   "source": []
  },
  {
   "cell_type": "code",
   "execution_count": 125,
   "metadata": {},
   "outputs": [
    {
     "name": "stdout",
     "output_type": "stream",
     "text": [
      "SVR(C=1.0, cache_size=200, coef0=0.0, degree=3, epsilon=0.1, gamma='auto',\n",
      "  kernel='rbf', max_iter=-1, shrinking=True, tol=0.001, verbose=False)\n",
      "{'C': 256}\n",
      "-0.823 (+/-1.026) for {'C': 2}\n",
      "-0.526 (+/-0.600) for {'C': 4}\n",
      "-0.501 (+/-0.603) for {'C': 6}\n",
      "-0.424 (+/-0.582) for {'C': 16}\n",
      "-0.426 (+/-0.721) for {'C': 32}\n",
      "-0.430 (+/-0.847) for {'C': 64}\n",
      "-0.403 (+/-0.827) for {'C': 128}\n",
      "-0.366 (+/-0.573) for {'C': 256}\n",
      "-0.379 (+/-0.521) for {'C': 512}\n"
     ]
    }
   ],
   "source": [
    "\n",
    "params = {\"C\":[2, 4, 6, 16,32, 64, 128, 256, 512]}\n",
    "# params = {\"C\":[1, 2], \"epsilon\": [0.04, 0.05, 0.06],  \"tol\":[0.001, 0.01, 0.0001], \"shrinking\" : [True]}\n",
    "svr = svm.SVR(**{'gamma' : \"auto\", })\n",
    "print(svr)\n",
    "\n",
    "model = svr.fit(scalerX, Y)\n",
    "cv_svm = cv_evaluate(model, params, 10, scalerX, Y)\n",
    "model = cv_svm.best_estimator_\n",
    "\n",
    "result = model.predict(scalerTX)\n",
    "outputResult(result)"
   ]
  },
  {
   "cell_type": "markdown",
   "metadata": {},
   "source": [
    "# Linear Regression"
   ]
  },
  {
   "cell_type": "code",
   "execution_count": 130,
   "metadata": {},
   "outputs": [
    {
     "name": "stdout",
     "output_type": "stream",
     "text": [
      "[-0.01190079  0.08086242 -0.05513802  0.06943337 -0.06578393  0.0463587\n",
      "  0.03625993 -0.00653284  5.96955415 -0.24599001  0.        ]\n",
      "{'alpha': 0.001}\n",
      "-1.042 (+/-1.443) for {'alpha': 0.01}\n",
      "-0.502 (+/-0.625) for {'alpha': 0.001}\n"
     ]
    }
   ],
   "source": [
    "from sklearn import linear_model\n",
    "reg = linear_model.Lasso(alpha = 0.001)\n",
    "reg.fit(scalerX, Y)\n",
    "print(reg.coef_)\n",
    "params = {\"alpha\": [0.01, 0.001]}\n",
    "cv_svm = cv_evaluate(reg, params, 10, scalerX, Y)\n",
    "model = cv_svm.best_estimator_\n",
    "result = model.predict(scalerTX)\n",
    "outputResult(result)"
   ]
  },
  {
   "cell_type": "markdown",
   "metadata": {},
   "source": [
    "# Bayesian Regression"
   ]
  },
  {
   "cell_type": "code",
   "execution_count": null,
   "metadata": {},
   "outputs": [],
   "source": [
    "from sklearn import linear_model\n",
    "clf = linear_model.BayesianRidge()\n",
    "clf.fit(scalerX, Y)\n",
    "params = {\"n_iter\": [300, 3000]}\n",
    "cv_svm = cv_evaluate(clf, params, 10, scalerX, Y)\n",
    "model = cv_svm.best_estimator_\n",
    "result = model.predict(scalerTX)\n",
    "outputResult(result)\n"
   ]
  },
  {
   "cell_type": "code",
   "execution_count": null,
   "metadata": {},
   "outputs": [],
   "source": [
    "clf = linear_model.ARDRegression()\n",
    "clf.fit(scalerX, Y)\n",
    "params = {\"n_iter\": [300]}\n",
    "#           'alpha_1':[1e-6, 1e-5, 1e-7], 'alpha_2':[1e-6, 1e-5, 1e-7],'lambda_1':[1e-6, 1e-5, 1e-7], 'lambda_2':[1e-6, 1e-5, 1e-7]}\n",
    "cv_svm = cv_evaluate(clf, params, 10, scalerX, Y)"
   ]
  },
  {
   "cell_type": "code",
   "execution_count": null,
   "metadata": {},
   "outputs": [],
   "source": []
  }
 ],
 "metadata": {
  "kernelspec": {
   "display_name": "Python [conda env:anaconda3]",
   "language": "python",
   "name": "conda-env-anaconda3-py"
  },
  "language_info": {
   "codemirror_mode": {
    "name": "ipython",
    "version": 3
   },
   "file_extension": ".py",
   "mimetype": "text/x-python",
   "name": "python",
   "nbconvert_exporter": "python",
   "pygments_lexer": "ipython3",
   "version": "3.6.6"
  }
 },
 "nbformat": 4,
 "nbformat_minor": 2
}
